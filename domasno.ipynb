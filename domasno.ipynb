{
 "cells": [
  {
   "cell_type": "markdown",
   "metadata": {
    "kernel": "SoS"
   },
   "source": [
    "# ТЕОРИЈА\n",
    "\n"
   ]
  },
  {
   "cell_type": "markdown",
   "metadata": {
    "kernel": "Bash"
   },
   "source": [
    "За да филтрираме слика во фреквенциски домен потребно е да ја помножиме\n",
    "сликата во фреквенциски домен со филтерот (кернел) кој е исто така во\n",
    "фреквенциски домен.\n"
   ]
  },
  {
   "cell_type": "code",
   "execution_count": 32,
   "metadata": {
    "kernel": "markdown"
   },
   "outputs": [
    {
     "data": {
      "text/markdown": [
       "$$I_{f,filt}  =H I_f$$\n"
      ]
     },
     "metadata": {},
     "output_type": "display_data"
    }
   ],
   "source": [
    "$$I_{f,filt}  =H I_f$$"
   ]
  },
  {
   "cell_type": "markdown",
   "metadata": {
    "kernel": "SoS"
   },
   "source": [
    "За таа цел потребно е да се вметне Octave функција која ќе креира “Band pass\n",
    "gaussian filter” во фреквенциски домен. Bandpass гаусовиот филтер во\n",
    "фреквенциски домен е дефиниран со равенката:\n"
   ]
  },
  {
   "cell_type": "code",
   "execution_count": 33,
   "metadata": {
    "kernel": "markdown"
   },
   "outputs": [
    {
     "data": {
      "text/markdown": [
       "$$H(i,j)= e^{\\frac{-d(i,j)^2}{f_h^2}}(1 - e^\\frac{-d(i,j)^2}{f_l^2})$$\n"
      ]
     },
     "metadata": {},
     "output_type": "display_data"
    }
   ],
   "source": [
    "$$H(i,j)= e^{\\frac{-d(i,j)^2}{f_h^2}}(1 - e^\\frac{-d(i,j)^2}{f_l^2})$$"
   ]
  },
  {
   "cell_type": "markdown",
   "metadata": {
    "kernel": "markdown"
   },
   "source": [
    "Каде што 𝑑(𝑖,𝑗) е евклидовото растојанието на даден пиксел од центарот на\n",
    "сликата, додека 𝑓ℎ и 𝑓𝑙 се праговите на високите и ниските фреквенции кои сакаме\n",
    "да ги филтрираме.\n",
    "\n"
   ]
  },
  {
   "cell_type": "markdown",
   "metadata": {
    "kernel": "markdown"
   },
   "source": [
    "Конверзија на 2D сликата од просторен во фреквенциски домен се прави со\n",
    "користење на Фуриева трансформација. Фуриевата трансформација е дефинирана\n",
    "како:"
   ]
  },
  {
   "cell_type": "code",
   "execution_count": 34,
   "metadata": {
    "kernel": "markdown"
   },
   "outputs": [
    {
     "data": {
      "text/markdown": [
       "$$F(u,v)=\\int \\int_{-\\infty}^{\\infty} f(x,y) e^ {-i2\\pi(ux+vy)}dhdy$$\n"
      ]
     },
     "metadata": {},
     "output_type": "display_data"
    }
   ],
   "source": [
    "$$F(u,v)=\\int \\int_{-\\infty}^{\\infty} f(x,y) e^ {-i2\\pi(ux+vy)}dhdy$$"
   ]
  },
  {
   "cell_type": "markdown",
   "metadata": {
    "kernel": "markdown"
   },
   "source": [
    "А во дискретниот домен горната равенка може да биде преведена како:\n"
   ]
  },
  {
   "cell_type": "code",
   "execution_count": 39,
   "metadata": {
    "kernel": "markdown"
   },
   "outputs": [
    {
     "data": {
      "text/markdown": [
       "$$F(u,v)=\\sum_{m={-\\infty}}^{\\infty}\\sum_{n={-\\infty}}^{\\infty} f(m,n)* e^{-i2\\pi(umx_0+vny_0)}$$\n"
      ]
     },
     "metadata": {},
     "output_type": "display_data"
    }
   ],
   "source": [
    "$$F(u,v)=\\sum_{m={-\\infty}}^{\\infty}\\sum_{n={-\\infty}}^{\\infty} f(m,n)* e^{-i2\\pi(umx_0+vny_0)}$$"
   ]
  },
  {
   "cell_type": "markdown",
   "metadata": {
    "kernel": "markdown"
   },
   "source": [
    "Конверзија на 2D сликата од фреквенциски во просторен домен се прави со\n",
    "користење на инверзна Фуриева трансформација. Инверзната Фуриева\n",
    "трансформација е дефинирана како:"
   ]
  },
  {
   "cell_type": "code",
   "execution_count": 28,
   "metadata": {
    "kernel": "markdown"
   },
   "outputs": [
    {
     "data": {
      "text/markdown": [
       "$$f(x,y)=\\int\\int_{-\\infty}^{\\infty}F(u,v)e^{i2\\pi(ux_vy)}dudv$$\n"
      ]
     },
     "metadata": {},
     "output_type": "display_data"
    }
   ],
   "source": [
    "$$f(x,y)=\\int\\int_{-\\infty}^{\\infty}F(u,v)e^{i2\\pi(ux_vy)}dudv$$"
   ]
  },
  {
   "cell_type": "markdown",
   "metadata": {
    "kernel": "markdown"
   },
   "source": [
    "А во дискретниот домен горната равенка може да биде преведена како:"
   ]
  },
  {
   "cell_type": "code",
   "execution_count": 29,
   "metadata": {
    "kernel": "markdown"
   },
   "outputs": [
    {
     "data": {
      "text/markdown": [
       "$$f(x,y)=\\sum_{m={-\\infty}}^{\\infty}\\sum_{n={-\\infty}}^{\\infty} F(m,n)*e^{i2\\pi(xmu_0+ynv_0)}$$\n"
      ]
     },
     "metadata": {},
     "output_type": "display_data"
    }
   ],
   "source": [
    "$$f(x,y)=\\sum_{m={-\\infty}}^{\\infty}\\sum_{n={-\\infty}}^{\\infty} F(m,n)*e^{i2\\pi(xmu_0+ynv_0)}$$"
   ]
  },
  {
   "cell_type": "markdown",
   "metadata": {
    "kernel": "markdown"
   },
   "source": [
    "# Филтрирање на слика во фреквентен опсег"
   ]
  },
  {
   "cell_type": "code",
   "execution_count": null,
   "metadata": {
    "kernel": "markdown"
   },
   "outputs": [],
   "source": []
  }
 ],
 "metadata": {
  "kernelspec": {
   "display_name": "SoS",
   "language": "sos",
   "name": "sos"
  },
  "language_info": {
   "codemirror_mode": "sos",
   "file_extension": ".sos",
   "mimetype": "text/x-sos",
   "name": "sos",
   "nbconvert_exporter": "sos_notebook.converter.SoS_Exporter",
   "pygments_lexer": "sos"
  },
  "sos": {
   "kernels": [
    [
     "Bash",
     "bash",
     "Bash",
     "#E6EEFF",
     "shell"
    ],
    [
     "SoS",
     "sos",
     "",
     "",
     "sos"
    ],
    [
     "markdown",
     "markdown",
     "markdown",
     "",
     "markdown"
    ]
   ],
   "panel": {
    "displayed": true,
    "height": 0
   },
   "version": "0.19.7"
  }
 },
 "nbformat": 4,
 "nbformat_minor": 2
}
